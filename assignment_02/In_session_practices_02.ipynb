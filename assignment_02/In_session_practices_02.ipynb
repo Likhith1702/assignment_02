{
  "nbformat": 4,
  "nbformat_minor": 0,
  "metadata": {
    "colab": {
      "name": "In_session_practices_02.ipynb",
      "provenance": [],
      "authorship_tag": "ABX9TyP/t08ypc675sNHhHnM+1Sb",
      "include_colab_link": true
    },
    "kernelspec": {
      "name": "python3",
      "display_name": "Python 3"
    },
    "language_info": {
      "name": "python"
    }
  },
  "cells": [
    {
      "cell_type": "markdown",
      "metadata": {
        "id": "view-in-github",
        "colab_type": "text"
      },
      "source": [
        "<a href=\"https://colab.research.google.com/github/Likhith1702/assignment_02/blob/main/assignment_02/In_session_practices_02.ipynb\" target=\"_parent\"><img src=\"https://colab.research.google.com/assets/colab-badge.svg\" alt=\"Open In Colab\"/></a>"
      ]
    },
    {
      "cell_type": "code",
      "metadata": {
        "id": "maCQI6xB-bzM"
      },
      "source": [
        ""
      ],
      "execution_count": null,
      "outputs": []
    },
    {
      "cell_type": "markdown",
      "metadata": {
        "id": "A4rtn-C--uHt"
      },
      "source": [
        "# In-session Hands-on Practices\n",
        "Likhith Reddy"
      ]
    },
    {
      "cell_type": "markdown",
      "metadata": {
        "id": "wOMgKBqH_SnA"
      },
      "source": [
        "# 1. Simple Types"
      ]
    },
    {
      "cell_type": "code",
      "metadata": {
        "colab": {
          "base_uri": "https://localhost:8080/"
        },
        "id": "ypj11_p5-g1t",
        "outputId": "a444afb6-00e6-48c4-df3e-1f0aab8abbbf"
      },
      "source": [
        "x = 5  # intiger\n",
        "y = 0.5 # float\n",
        "s = \"Hello\"  # string, a collection of characters\n",
        "print(x,y,s)"
      ],
      "execution_count": 2,
      "outputs": [
        {
          "output_type": "stream",
          "name": "stdout",
          "text": [
            "5 0.5 Hello\n"
          ]
        }
      ]
    },
    {
      "cell_type": "code",
      "metadata": {
        "colab": {
          "base_uri": "https://localhost:8080/"
        },
        "id": "9VcTooRwAAcO",
        "outputId": "ea05a9a3-c018-4994-9c1f-715cb40b2bee"
      },
      "source": [
        "type(x)"
      ],
      "execution_count": 6,
      "outputs": [
        {
          "output_type": "execute_result",
          "data": {
            "text/plain": [
              "int"
            ]
          },
          "metadata": {},
          "execution_count": 6
        }
      ]
    },
    {
      "cell_type": "code",
      "metadata": {
        "colab": {
          "base_uri": "https://localhost:8080/"
        },
        "id": "1YlNjHsAAFA5",
        "outputId": "a023d514-6837-4009-e37c-735eff708f4b"
      },
      "source": [
        "type(s)"
      ],
      "execution_count": 7,
      "outputs": [
        {
          "output_type": "execute_result",
          "data": {
            "text/plain": [
              "str"
            ]
          },
          "metadata": {},
          "execution_count": 7
        }
      ]
    },
    {
      "cell_type": "markdown",
      "metadata": {
        "id": "Rh14ERvk_ecf"
      },
      "source": [
        "# 2. Collection Type"
      ]
    },
    {
      "cell_type": "code",
      "metadata": {
        "colab": {
          "base_uri": "https://localhost:8080/"
        },
        "id": "ldcWJx8B_dsE",
        "outputId": "b9875a14-2c97-4fb8-86fd-922278be1f3b"
      },
      "source": [
        "a_list = [1,4,7,10]\n",
        "print(a_list)"
      ],
      "execution_count": 4,
      "outputs": [
        {
          "output_type": "stream",
          "name": "stdout",
          "text": [
            "[1, 4, 7, 10]\n"
          ]
        }
      ]
    },
    {
      "cell_type": "code",
      "metadata": {
        "colab": {
          "base_uri": "https://localhost:8080/"
        },
        "id": "wT2v1Sql_1b-",
        "outputId": "0f46af93-2391-4877-a2c3-57629e951836"
      },
      "source": [
        "type(a_list)"
      ],
      "execution_count": 5,
      "outputs": [
        {
          "output_type": "execute_result",
          "data": {
            "text/plain": [
              "list"
            ]
          },
          "metadata": {},
          "execution_count": 5
        }
      ]
    },
    {
      "cell_type": "markdown",
      "metadata": {
        "id": "SvUHtbrqANcA"
      },
      "source": [
        "## 3. Loop"
      ]
    },
    {
      "cell_type": "code",
      "metadata": {
        "colab": {
          "base_uri": "https://localhost:8080/"
        },
        "id": "5t01AswXAVjD",
        "outputId": "7b3c3da5-9c08-47a6-aed4-105cbf0eb197"
      },
      "source": [
        "for i in a_list:\n",
        "  print(\"integer\", i)"
      ],
      "execution_count": 10,
      "outputs": [
        {
          "output_type": "stream",
          "name": "stdout",
          "text": [
            "integer 1\n",
            "integer 4\n",
            "integer 7\n",
            "integer 10\n"
          ]
        }
      ]
    },
    {
      "cell_type": "markdown",
      "metadata": {
        "id": "XlOGsV32Brzb"
      },
      "source": [
        "# 4. Conditions"
      ]
    },
    {
      "cell_type": "code",
      "metadata": {
        "colab": {
          "base_uri": "https://localhost:8080/"
        },
        "id": "kGP-52f1BwmR",
        "outputId": "f63d1af9-87f3-49a4-ce16-0c75d4a734cc"
      },
      "source": [
        "print (10 % 2) # modular"
      ],
      "execution_count": 11,
      "outputs": [
        {
          "output_type": "stream",
          "name": "stdout",
          "text": [
            "0\n"
          ]
        }
      ]
    },
    {
      "cell_type": "code",
      "metadata": {
        "colab": {
          "base_uri": "https://localhost:8080/"
        },
        "id": "a0ZNLd_8B_KF",
        "outputId": "8d65bafc-87a9-4d99-995f-8e7f0bda4526"
      },
      "source": [
        "print (23 % 2) # modula"
      ],
      "execution_count": 12,
      "outputs": [
        {
          "output_type": "stream",
          "name": "stdout",
          "text": [
            "1\n"
          ]
        }
      ]
    },
    {
      "cell_type": "code",
      "metadata": {
        "colab": {
          "base_uri": "https://localhost:8080/"
        },
        "id": "A3_hFd90CLkD",
        "outputId": "7ec32428-5b0a-4716-fc6a-02a517f60ed7"
      },
      "source": [
        "for i in a_list:\n",
        "  if i % 2 == 1:\n",
        "    print (\"Odd Number\", i)"
      ],
      "execution_count": 20,
      "outputs": [
        {
          "output_type": "stream",
          "name": "stdout",
          "text": [
            "Odd Number 1\n",
            "Odd Number 7\n"
          ]
        }
      ]
    },
    {
      "cell_type": "code",
      "metadata": {
        "id": "FTzcgv1uCZen"
      },
      "source": [
        ""
      ],
      "execution_count": null,
      "outputs": []
    }
  ]
}